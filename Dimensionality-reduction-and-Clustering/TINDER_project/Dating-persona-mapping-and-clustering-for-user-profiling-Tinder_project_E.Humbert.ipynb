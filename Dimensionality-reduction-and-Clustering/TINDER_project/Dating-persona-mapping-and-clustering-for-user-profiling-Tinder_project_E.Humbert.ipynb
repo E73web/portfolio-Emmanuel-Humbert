{
 "cells": [
  {
   "cell_type": "code",
   "execution_count": 13,
   "metadata": {},
   "outputs": [
    {
     "name": "stdout",
     "output_type": "stream",
     "text": [
      "0.13.1\n"
     ]
    }
   ],
   "source": [
    "# Packages\n",
    "import pandas as pd\n",
    "\n",
    "# Visualization\n",
    "import matplotlib.pyplot as plt\n",
    "import plotly.express as px\n",
    "import plotly.graph_objects as go\n",
    "\n",
    "# Package for MCA (Multiple Correspondence Analysis)\n",
    "import prince\n",
    "print(prince.__version__)"
   ]
  },
  {
   "cell_type": "code",
   "execution_count": 2,
   "metadata": {},
   "outputs": [
    {
     "data": {
      "application/vnd.microsoft.datawrangler.viewer.v0+json": {
       "columns": [
        {
         "name": "index",
         "rawType": "int64",
         "type": "integer"
        },
        {
         "name": "userid",
         "rawType": "int64",
         "type": "integer"
        },
        {
         "name": "date.crea",
         "rawType": "object",
         "type": "string"
        },
        {
         "name": "score",
         "rawType": "float64",
         "type": "float"
        },
        {
         "name": "n.matches",
         "rawType": "int64",
         "type": "integer"
        },
        {
         "name": "n.updates.photo",
         "rawType": "int64",
         "type": "integer"
        },
        {
         "name": "n.photos",
         "rawType": "int64",
         "type": "integer"
        },
        {
         "name": "last.connex",
         "rawType": "object",
         "type": "string"
        },
        {
         "name": "last.up.photo",
         "rawType": "object",
         "type": "string"
        },
        {
         "name": "last.pr.update",
         "rawType": "float64",
         "type": "float"
        },
        {
         "name": "gender",
         "rawType": "int64",
         "type": "integer"
        },
        {
         "name": "sent.ana",
         "rawType": "float64",
         "type": "float"
        },
        {
         "name": "length.prof",
         "rawType": "float64",
         "type": "float"
        },
        {
         "name": "voyage",
         "rawType": "int64",
         "type": "integer"
        },
        {
         "name": "laugh",
         "rawType": "int64",
         "type": "integer"
        },
        {
         "name": "photo.elevator",
         "rawType": "int64",
         "type": "integer"
        },
        {
         "name": "photo.beach",
         "rawType": "int64",
         "type": "integer"
        },
        {
         "name": "Country",
         "rawType": "object",
         "type": "string"
        }
       ],
       "conversionMethod": "pd.DataFrame",
       "ref": "a11bad8a-80ee-400b-8570-86bfd923a100",
       "rows": [
        [
         "0",
         "1",
         "9/17/2011",
         "1.495834114",
         "11",
         "5",
         "6",
         "10/7/2011",
         "10/2/2011",
         null,
         "1",
         "6.490445526",
         "0.0",
         "0",
         "0",
         "0",
         "0",
         "France"
        ],
        [
         "1",
         "2",
         "1/17/2017",
         "8.946862644",
         "56",
         "2",
         "6",
         "1/31/2017",
         "2/3/2017",
         null,
         "1",
         "4.589125252",
         "20.7228618",
         "0",
         "0",
         "0",
         "1",
         "Germany"
        ],
        [
         "2",
         "3",
         "5/14/2019",
         "2.496199436",
         "13",
         "3",
         "4",
         "6/17/2019",
         "6/19/2019",
         null,
         "1",
         "6.473182419",
         "31.39927736",
         "0",
         "0",
         "0",
         "1",
         "England"
        ],
        [
         "3",
         "4",
         "11/27/2015",
         "2.823579192",
         "32",
         "5",
         "2",
         "1/15/2016",
         "12/9/2015",
         null,
         "0",
         "5.368982486",
         "0.0",
         "0",
         "0",
         "0",
         "1",
         "France"
        ],
        [
         "4",
         "5",
         "11/28/2014",
         "2.117432577",
         "21",
         "1",
         "4",
         "1/15/2015",
         "1/2/2015",
         null,
         "0",
         "5.573948939",
         "38.51022487",
         "0",
         "1",
         "0",
         "0",
         "Germany"
        ]
       ],
       "shape": {
        "columns": 17,
        "rows": 5
       }
      },
      "text/html": [
       "<div>\n",
       "<style scoped>\n",
       "    .dataframe tbody tr th:only-of-type {\n",
       "        vertical-align: middle;\n",
       "    }\n",
       "\n",
       "    .dataframe tbody tr th {\n",
       "        vertical-align: top;\n",
       "    }\n",
       "\n",
       "    .dataframe thead th {\n",
       "        text-align: right;\n",
       "    }\n",
       "</style>\n",
       "<table border=\"1\" class=\"dataframe\">\n",
       "  <thead>\n",
       "    <tr style=\"text-align: right;\">\n",
       "      <th></th>\n",
       "      <th>userid</th>\n",
       "      <th>date.crea</th>\n",
       "      <th>score</th>\n",
       "      <th>n.matches</th>\n",
       "      <th>n.updates.photo</th>\n",
       "      <th>n.photos</th>\n",
       "      <th>last.connex</th>\n",
       "      <th>last.up.photo</th>\n",
       "      <th>last.pr.update</th>\n",
       "      <th>gender</th>\n",
       "      <th>sent.ana</th>\n",
       "      <th>length.prof</th>\n",
       "      <th>voyage</th>\n",
       "      <th>laugh</th>\n",
       "      <th>photo.elevator</th>\n",
       "      <th>photo.beach</th>\n",
       "      <th>Country</th>\n",
       "    </tr>\n",
       "  </thead>\n",
       "  <tbody>\n",
       "    <tr>\n",
       "      <th>0</th>\n",
       "      <td>1</td>\n",
       "      <td>9/17/2011</td>\n",
       "      <td>1.495834</td>\n",
       "      <td>11</td>\n",
       "      <td>5</td>\n",
       "      <td>6</td>\n",
       "      <td>10/7/2011</td>\n",
       "      <td>10/2/2011</td>\n",
       "      <td>NaN</td>\n",
       "      <td>1</td>\n",
       "      <td>6.490446</td>\n",
       "      <td>0.000000</td>\n",
       "      <td>0</td>\n",
       "      <td>0</td>\n",
       "      <td>0</td>\n",
       "      <td>0</td>\n",
       "      <td>France</td>\n",
       "    </tr>\n",
       "    <tr>\n",
       "      <th>1</th>\n",
       "      <td>2</td>\n",
       "      <td>1/17/2017</td>\n",
       "      <td>8.946863</td>\n",
       "      <td>56</td>\n",
       "      <td>2</td>\n",
       "      <td>6</td>\n",
       "      <td>1/31/2017</td>\n",
       "      <td>2/3/2017</td>\n",
       "      <td>NaN</td>\n",
       "      <td>1</td>\n",
       "      <td>4.589125</td>\n",
       "      <td>20.722862</td>\n",
       "      <td>0</td>\n",
       "      <td>0</td>\n",
       "      <td>0</td>\n",
       "      <td>1</td>\n",
       "      <td>Germany</td>\n",
       "    </tr>\n",
       "    <tr>\n",
       "      <th>2</th>\n",
       "      <td>3</td>\n",
       "      <td>5/14/2019</td>\n",
       "      <td>2.496199</td>\n",
       "      <td>13</td>\n",
       "      <td>3</td>\n",
       "      <td>4</td>\n",
       "      <td>6/17/2019</td>\n",
       "      <td>6/19/2019</td>\n",
       "      <td>NaN</td>\n",
       "      <td>1</td>\n",
       "      <td>6.473182</td>\n",
       "      <td>31.399277</td>\n",
       "      <td>0</td>\n",
       "      <td>0</td>\n",
       "      <td>0</td>\n",
       "      <td>1</td>\n",
       "      <td>England</td>\n",
       "    </tr>\n",
       "    <tr>\n",
       "      <th>3</th>\n",
       "      <td>4</td>\n",
       "      <td>11/27/2015</td>\n",
       "      <td>2.823579</td>\n",
       "      <td>32</td>\n",
       "      <td>5</td>\n",
       "      <td>2</td>\n",
       "      <td>1/15/2016</td>\n",
       "      <td>12/9/2015</td>\n",
       "      <td>NaN</td>\n",
       "      <td>0</td>\n",
       "      <td>5.368982</td>\n",
       "      <td>0.000000</td>\n",
       "      <td>0</td>\n",
       "      <td>0</td>\n",
       "      <td>0</td>\n",
       "      <td>1</td>\n",
       "      <td>France</td>\n",
       "    </tr>\n",
       "    <tr>\n",
       "      <th>4</th>\n",
       "      <td>5</td>\n",
       "      <td>11/28/2014</td>\n",
       "      <td>2.117433</td>\n",
       "      <td>21</td>\n",
       "      <td>1</td>\n",
       "      <td>4</td>\n",
       "      <td>1/15/2015</td>\n",
       "      <td>1/2/2015</td>\n",
       "      <td>NaN</td>\n",
       "      <td>0</td>\n",
       "      <td>5.573949</td>\n",
       "      <td>38.510225</td>\n",
       "      <td>0</td>\n",
       "      <td>1</td>\n",
       "      <td>0</td>\n",
       "      <td>0</td>\n",
       "      <td>Germany</td>\n",
       "    </tr>\n",
       "  </tbody>\n",
       "</table>\n",
       "</div>"
      ],
      "text/plain": [
       "   userid   date.crea     score  n.matches  n.updates.photo  n.photos  \\\n",
       "0       1   9/17/2011  1.495834         11                5         6   \n",
       "1       2   1/17/2017  8.946863         56                2         6   \n",
       "2       3   5/14/2019  2.496199         13                3         4   \n",
       "3       4  11/27/2015  2.823579         32                5         2   \n",
       "4       5  11/28/2014  2.117433         21                1         4   \n",
       "\n",
       "  last.connex last.up.photo  last.pr.update  gender  sent.ana  length.prof  \\\n",
       "0   10/7/2011     10/2/2011             NaN       1  6.490446     0.000000   \n",
       "1   1/31/2017      2/3/2017             NaN       1  4.589125    20.722862   \n",
       "2   6/17/2019     6/19/2019             NaN       1  6.473182    31.399277   \n",
       "3   1/15/2016     12/9/2015             NaN       0  5.368982     0.000000   \n",
       "4   1/15/2015      1/2/2015             NaN       0  5.573949    38.510225   \n",
       "\n",
       "   voyage  laugh  photo.elevator  photo.beach  Country  \n",
       "0       0      0               0            0   France  \n",
       "1       0      0               0            1  Germany  \n",
       "2       0      0               0            1  England  \n",
       "3       0      0               0            1   France  \n",
       "4       0      1               0            0  Germany  "
      ]
     },
     "execution_count": 2,
     "metadata": {},
     "output_type": "execute_result"
    }
   ],
   "source": [
    "# Opening tinder dataset\n",
    "\n",
    "tinder_df= pd.read_csv(\"C://Users//emmhu//OneDrive//Documents//E-LEARNING//DU DATA ANALYST//3_RD & Clustering//Données//Project 3_Tinder//tinder_users.db - pays.csv\", \n",
    "                       sep=\",\")\n",
    "\n",
    "tinder_df.head()\n"
   ]
  },
  {
   "cell_type": "code",
   "execution_count": 3,
   "metadata": {},
   "outputs": [
    {
     "name": "stdout",
     "output_type": "stream",
     "text": [
      "(3000, 17)\n"
     ]
    },
    {
     "data": {
      "application/vnd.microsoft.datawrangler.viewer.v0+json": {
       "columns": [
        {
         "name": "index",
         "rawType": "object",
         "type": "string"
        },
        {
         "name": "userid",
         "rawType": "float64",
         "type": "float"
        },
        {
         "name": "date.crea",
         "rawType": "object",
         "type": "unknown"
        },
        {
         "name": "score",
         "rawType": "float64",
         "type": "float"
        },
        {
         "name": "n.matches",
         "rawType": "float64",
         "type": "float"
        },
        {
         "name": "n.updates.photo",
         "rawType": "float64",
         "type": "float"
        },
        {
         "name": "n.photos",
         "rawType": "float64",
         "type": "float"
        },
        {
         "name": "last.connex",
         "rawType": "object",
         "type": "unknown"
        },
        {
         "name": "last.up.photo",
         "rawType": "object",
         "type": "unknown"
        },
        {
         "name": "last.pr.update",
         "rawType": "float64",
         "type": "float"
        },
        {
         "name": "gender",
         "rawType": "float64",
         "type": "float"
        },
        {
         "name": "sent.ana",
         "rawType": "float64",
         "type": "float"
        },
        {
         "name": "length.prof",
         "rawType": "float64",
         "type": "float"
        },
        {
         "name": "voyage",
         "rawType": "float64",
         "type": "float"
        },
        {
         "name": "laugh",
         "rawType": "float64",
         "type": "float"
        },
        {
         "name": "photo.elevator",
         "rawType": "float64",
         "type": "float"
        },
        {
         "name": "photo.beach",
         "rawType": "float64",
         "type": "float"
        },
        {
         "name": "Country",
         "rawType": "object",
         "type": "unknown"
        }
       ],
       "conversionMethod": "pd.DataFrame",
       "ref": "49068f53-7656-4e0a-8975-9bcea861a020",
       "rows": [
        [
         "count",
         "3000.0",
         "3000",
         "3000.0",
         "3000.0",
         "3000.0",
         "3000.0",
         "3000",
         "3000",
         "0.0",
         "3000.0",
         "3000.0",
         "3000.0",
         "3000.0",
         "3000.0",
         "3000.0",
         "3000.0",
         "3000"
        ],
        [
         "unique",
         null,
         "2118",
         null,
         null,
         null,
         null,
         "2126",
         "2085",
         null,
         null,
         null,
         null,
         null,
         null,
         null,
         null,
         "3"
        ],
        [
         "top",
         null,
         "3/14/2014",
         null,
         null,
         null,
         null,
         "12/17/2017",
         "2/17/2011",
         null,
         null,
         null,
         null,
         null,
         null,
         null,
         null,
         "France"
        ],
        [
         "freq",
         null,
         "5",
         null,
         null,
         null,
         null,
         "5",
         "5",
         null,
         null,
         null,
         null,
         null,
         null,
         null,
         null,
         "1002"
        ],
        [
         "mean",
         "1500.5",
         null,
         "1.9534812799493333",
         "16.779333333333334",
         "2.066666666666667",
         "3.516",
         null,
         null,
         null,
         "0.5166666666666667",
         "4.996566918169334",
         "16.133044599906665",
         "0.22166666666666668",
         "0.19566666666666666",
         "0.16033333333333333",
         "0.17166666666666666",
         null
        ],
        [
         "std",
         "866.1697293256098",
         null,
         "1.0796590999666835",
         "10.095871190438208",
         "1.5324289004715865",
         "1.705886089138537",
         null,
         null,
         null,
         "0.5371080436675781",
         "2.2385553942770846",
         "15.794917018739177",
         "0.4154372213911443",
         "0.3967791578728185",
         "0.366976083740573",
         "0.3771533336737938",
         null
        ],
        [
         "min",
         "1.0",
         null,
         "0.295011016",
         "3.0",
         "-1.0",
         "1.0",
         null,
         null,
         null,
         "0.0",
         "-3.202502017",
         "0.0",
         "0.0",
         "0.0",
         "0.0",
         "0.0",
         null
        ],
        [
         "25%",
         "750.75",
         null,
         "1.13666896",
         "9.0",
         "1.0",
         "2.0",
         null,
         null,
         null,
         "0.0",
         "3.4646808137500003",
         "0.0",
         "0.0",
         "0.0",
         "0.0",
         "0.0",
         null
        ],
        [
         "50%",
         "1500.5",
         null,
         "1.714708426",
         "15.0",
         "2.0",
         "3.0",
         null,
         null,
         null,
         "0.0",
         "4.965376128500001",
         "16.669416655",
         "0.0",
         "0.0",
         "0.0",
         "0.0",
         null
        ],
        [
         "75%",
         "2250.25",
         null,
         "2.518343883",
         "23.0",
         "3.0",
         "5.0",
         null,
         null,
         null,
         "1.0",
         "6.4726678162499995",
         "29.9462257775",
         "0.0",
         "0.0",
         "0.0",
         "0.0",
         null
        ],
        [
         "max",
         "3000.0",
         null,
         "8.946862644",
         "61.0",
         "9.0",
         "12.0",
         null,
         null,
         null,
         "2.0",
         "13.35516989",
         "62.60159014",
         "1.0",
         "1.0",
         "1.0",
         "1.0",
         null
        ]
       ],
       "shape": {
        "columns": 17,
        "rows": 11
       }
      },
      "text/html": [
       "<div>\n",
       "<style scoped>\n",
       "    .dataframe tbody tr th:only-of-type {\n",
       "        vertical-align: middle;\n",
       "    }\n",
       "\n",
       "    .dataframe tbody tr th {\n",
       "        vertical-align: top;\n",
       "    }\n",
       "\n",
       "    .dataframe thead th {\n",
       "        text-align: right;\n",
       "    }\n",
       "</style>\n",
       "<table border=\"1\" class=\"dataframe\">\n",
       "  <thead>\n",
       "    <tr style=\"text-align: right;\">\n",
       "      <th></th>\n",
       "      <th>userid</th>\n",
       "      <th>date.crea</th>\n",
       "      <th>score</th>\n",
       "      <th>n.matches</th>\n",
       "      <th>n.updates.photo</th>\n",
       "      <th>n.photos</th>\n",
       "      <th>last.connex</th>\n",
       "      <th>last.up.photo</th>\n",
       "      <th>last.pr.update</th>\n",
       "      <th>gender</th>\n",
       "      <th>sent.ana</th>\n",
       "      <th>length.prof</th>\n",
       "      <th>voyage</th>\n",
       "      <th>laugh</th>\n",
       "      <th>photo.elevator</th>\n",
       "      <th>photo.beach</th>\n",
       "      <th>Country</th>\n",
       "    </tr>\n",
       "  </thead>\n",
       "  <tbody>\n",
       "    <tr>\n",
       "      <th>count</th>\n",
       "      <td>3000.000000</td>\n",
       "      <td>3000</td>\n",
       "      <td>3000.000000</td>\n",
       "      <td>3000.000000</td>\n",
       "      <td>3000.000000</td>\n",
       "      <td>3000.000000</td>\n",
       "      <td>3000</td>\n",
       "      <td>3000</td>\n",
       "      <td>0.0</td>\n",
       "      <td>3000.000000</td>\n",
       "      <td>3000.000000</td>\n",
       "      <td>3000.000000</td>\n",
       "      <td>3000.000000</td>\n",
       "      <td>3000.000000</td>\n",
       "      <td>3000.000000</td>\n",
       "      <td>3000.000000</td>\n",
       "      <td>3000</td>\n",
       "    </tr>\n",
       "    <tr>\n",
       "      <th>unique</th>\n",
       "      <td>NaN</td>\n",
       "      <td>2118</td>\n",
       "      <td>NaN</td>\n",
       "      <td>NaN</td>\n",
       "      <td>NaN</td>\n",
       "      <td>NaN</td>\n",
       "      <td>2126</td>\n",
       "      <td>2085</td>\n",
       "      <td>NaN</td>\n",
       "      <td>NaN</td>\n",
       "      <td>NaN</td>\n",
       "      <td>NaN</td>\n",
       "      <td>NaN</td>\n",
       "      <td>NaN</td>\n",
       "      <td>NaN</td>\n",
       "      <td>NaN</td>\n",
       "      <td>3</td>\n",
       "    </tr>\n",
       "    <tr>\n",
       "      <th>top</th>\n",
       "      <td>NaN</td>\n",
       "      <td>3/14/2014</td>\n",
       "      <td>NaN</td>\n",
       "      <td>NaN</td>\n",
       "      <td>NaN</td>\n",
       "      <td>NaN</td>\n",
       "      <td>12/17/2017</td>\n",
       "      <td>2/17/2011</td>\n",
       "      <td>NaN</td>\n",
       "      <td>NaN</td>\n",
       "      <td>NaN</td>\n",
       "      <td>NaN</td>\n",
       "      <td>NaN</td>\n",
       "      <td>NaN</td>\n",
       "      <td>NaN</td>\n",
       "      <td>NaN</td>\n",
       "      <td>France</td>\n",
       "    </tr>\n",
       "    <tr>\n",
       "      <th>freq</th>\n",
       "      <td>NaN</td>\n",
       "      <td>5</td>\n",
       "      <td>NaN</td>\n",
       "      <td>NaN</td>\n",
       "      <td>NaN</td>\n",
       "      <td>NaN</td>\n",
       "      <td>5</td>\n",
       "      <td>5</td>\n",
       "      <td>NaN</td>\n",
       "      <td>NaN</td>\n",
       "      <td>NaN</td>\n",
       "      <td>NaN</td>\n",
       "      <td>NaN</td>\n",
       "      <td>NaN</td>\n",
       "      <td>NaN</td>\n",
       "      <td>NaN</td>\n",
       "      <td>1002</td>\n",
       "    </tr>\n",
       "    <tr>\n",
       "      <th>mean</th>\n",
       "      <td>1500.500000</td>\n",
       "      <td>NaN</td>\n",
       "      <td>1.953481</td>\n",
       "      <td>16.779333</td>\n",
       "      <td>2.066667</td>\n",
       "      <td>3.516000</td>\n",
       "      <td>NaN</td>\n",
       "      <td>NaN</td>\n",
       "      <td>NaN</td>\n",
       "      <td>0.516667</td>\n",
       "      <td>4.996567</td>\n",
       "      <td>16.133045</td>\n",
       "      <td>0.221667</td>\n",
       "      <td>0.195667</td>\n",
       "      <td>0.160333</td>\n",
       "      <td>0.171667</td>\n",
       "      <td>NaN</td>\n",
       "    </tr>\n",
       "    <tr>\n",
       "      <th>std</th>\n",
       "      <td>866.169729</td>\n",
       "      <td>NaN</td>\n",
       "      <td>1.079659</td>\n",
       "      <td>10.095871</td>\n",
       "      <td>1.532429</td>\n",
       "      <td>1.705886</td>\n",
       "      <td>NaN</td>\n",
       "      <td>NaN</td>\n",
       "      <td>NaN</td>\n",
       "      <td>0.537108</td>\n",
       "      <td>2.238555</td>\n",
       "      <td>15.794917</td>\n",
       "      <td>0.415437</td>\n",
       "      <td>0.396779</td>\n",
       "      <td>0.366976</td>\n",
       "      <td>0.377153</td>\n",
       "      <td>NaN</td>\n",
       "    </tr>\n",
       "    <tr>\n",
       "      <th>min</th>\n",
       "      <td>1.000000</td>\n",
       "      <td>NaN</td>\n",
       "      <td>0.295011</td>\n",
       "      <td>3.000000</td>\n",
       "      <td>-1.000000</td>\n",
       "      <td>1.000000</td>\n",
       "      <td>NaN</td>\n",
       "      <td>NaN</td>\n",
       "      <td>NaN</td>\n",
       "      <td>0.000000</td>\n",
       "      <td>-3.202502</td>\n",
       "      <td>0.000000</td>\n",
       "      <td>0.000000</td>\n",
       "      <td>0.000000</td>\n",
       "      <td>0.000000</td>\n",
       "      <td>0.000000</td>\n",
       "      <td>NaN</td>\n",
       "    </tr>\n",
       "    <tr>\n",
       "      <th>25%</th>\n",
       "      <td>750.750000</td>\n",
       "      <td>NaN</td>\n",
       "      <td>1.136669</td>\n",
       "      <td>9.000000</td>\n",
       "      <td>1.000000</td>\n",
       "      <td>2.000000</td>\n",
       "      <td>NaN</td>\n",
       "      <td>NaN</td>\n",
       "      <td>NaN</td>\n",
       "      <td>0.000000</td>\n",
       "      <td>3.464681</td>\n",
       "      <td>0.000000</td>\n",
       "      <td>0.000000</td>\n",
       "      <td>0.000000</td>\n",
       "      <td>0.000000</td>\n",
       "      <td>0.000000</td>\n",
       "      <td>NaN</td>\n",
       "    </tr>\n",
       "    <tr>\n",
       "      <th>50%</th>\n",
       "      <td>1500.500000</td>\n",
       "      <td>NaN</td>\n",
       "      <td>1.714708</td>\n",
       "      <td>15.000000</td>\n",
       "      <td>2.000000</td>\n",
       "      <td>3.000000</td>\n",
       "      <td>NaN</td>\n",
       "      <td>NaN</td>\n",
       "      <td>NaN</td>\n",
       "      <td>0.000000</td>\n",
       "      <td>4.965376</td>\n",
       "      <td>16.669417</td>\n",
       "      <td>0.000000</td>\n",
       "      <td>0.000000</td>\n",
       "      <td>0.000000</td>\n",
       "      <td>0.000000</td>\n",
       "      <td>NaN</td>\n",
       "    </tr>\n",
       "    <tr>\n",
       "      <th>75%</th>\n",
       "      <td>2250.250000</td>\n",
       "      <td>NaN</td>\n",
       "      <td>2.518344</td>\n",
       "      <td>23.000000</td>\n",
       "      <td>3.000000</td>\n",
       "      <td>5.000000</td>\n",
       "      <td>NaN</td>\n",
       "      <td>NaN</td>\n",
       "      <td>NaN</td>\n",
       "      <td>1.000000</td>\n",
       "      <td>6.472668</td>\n",
       "      <td>29.946226</td>\n",
       "      <td>0.000000</td>\n",
       "      <td>0.000000</td>\n",
       "      <td>0.000000</td>\n",
       "      <td>0.000000</td>\n",
       "      <td>NaN</td>\n",
       "    </tr>\n",
       "    <tr>\n",
       "      <th>max</th>\n",
       "      <td>3000.000000</td>\n",
       "      <td>NaN</td>\n",
       "      <td>8.946863</td>\n",
       "      <td>61.000000</td>\n",
       "      <td>9.000000</td>\n",
       "      <td>12.000000</td>\n",
       "      <td>NaN</td>\n",
       "      <td>NaN</td>\n",
       "      <td>NaN</td>\n",
       "      <td>2.000000</td>\n",
       "      <td>13.355170</td>\n",
       "      <td>62.601590</td>\n",
       "      <td>1.000000</td>\n",
       "      <td>1.000000</td>\n",
       "      <td>1.000000</td>\n",
       "      <td>1.000000</td>\n",
       "      <td>NaN</td>\n",
       "    </tr>\n",
       "  </tbody>\n",
       "</table>\n",
       "</div>"
      ],
      "text/plain": [
       "             userid  date.crea        score    n.matches  n.updates.photo  \\\n",
       "count   3000.000000       3000  3000.000000  3000.000000      3000.000000   \n",
       "unique          NaN       2118          NaN          NaN              NaN   \n",
       "top             NaN  3/14/2014          NaN          NaN              NaN   \n",
       "freq            NaN          5          NaN          NaN              NaN   \n",
       "mean    1500.500000        NaN     1.953481    16.779333         2.066667   \n",
       "std      866.169729        NaN     1.079659    10.095871         1.532429   \n",
       "min        1.000000        NaN     0.295011     3.000000        -1.000000   \n",
       "25%      750.750000        NaN     1.136669     9.000000         1.000000   \n",
       "50%     1500.500000        NaN     1.714708    15.000000         2.000000   \n",
       "75%     2250.250000        NaN     2.518344    23.000000         3.000000   \n",
       "max     3000.000000        NaN     8.946863    61.000000         9.000000   \n",
       "\n",
       "           n.photos last.connex last.up.photo  last.pr.update       gender  \\\n",
       "count   3000.000000        3000          3000             0.0  3000.000000   \n",
       "unique          NaN        2126          2085             NaN          NaN   \n",
       "top             NaN  12/17/2017     2/17/2011             NaN          NaN   \n",
       "freq            NaN           5             5             NaN          NaN   \n",
       "mean       3.516000         NaN           NaN             NaN     0.516667   \n",
       "std        1.705886         NaN           NaN             NaN     0.537108   \n",
       "min        1.000000         NaN           NaN             NaN     0.000000   \n",
       "25%        2.000000         NaN           NaN             NaN     0.000000   \n",
       "50%        3.000000         NaN           NaN             NaN     0.000000   \n",
       "75%        5.000000         NaN           NaN             NaN     1.000000   \n",
       "max       12.000000         NaN           NaN             NaN     2.000000   \n",
       "\n",
       "           sent.ana  length.prof       voyage        laugh  photo.elevator  \\\n",
       "count   3000.000000  3000.000000  3000.000000  3000.000000     3000.000000   \n",
       "unique          NaN          NaN          NaN          NaN             NaN   \n",
       "top             NaN          NaN          NaN          NaN             NaN   \n",
       "freq            NaN          NaN          NaN          NaN             NaN   \n",
       "mean       4.996567    16.133045     0.221667     0.195667        0.160333   \n",
       "std        2.238555    15.794917     0.415437     0.396779        0.366976   \n",
       "min       -3.202502     0.000000     0.000000     0.000000        0.000000   \n",
       "25%        3.464681     0.000000     0.000000     0.000000        0.000000   \n",
       "50%        4.965376    16.669417     0.000000     0.000000        0.000000   \n",
       "75%        6.472668    29.946226     0.000000     0.000000        0.000000   \n",
       "max       13.355170    62.601590     1.000000     1.000000        1.000000   \n",
       "\n",
       "        photo.beach Country  \n",
       "count   3000.000000    3000  \n",
       "unique          NaN       3  \n",
       "top             NaN  France  \n",
       "freq            NaN    1002  \n",
       "mean       0.171667     NaN  \n",
       "std        0.377153     NaN  \n",
       "min        0.000000     NaN  \n",
       "25%        0.000000     NaN  \n",
       "50%        0.000000     NaN  \n",
       "75%        0.000000     NaN  \n",
       "max        1.000000     NaN  "
      ]
     },
     "execution_count": 3,
     "metadata": {},
     "output_type": "execute_result"
    }
   ],
   "source": [
    "print(tinder_df.shape)\n",
    "tinder_df.describe(include='all')"
   ]
  },
  {
   "cell_type": "code",
   "execution_count": 4,
   "metadata": {},
   "outputs": [
    {
     "name": "stdout",
     "output_type": "stream",
     "text": [
      "<class 'pandas.core.frame.DataFrame'>\n",
      "RangeIndex: 3000 entries, 0 to 2999\n",
      "Data columns (total 17 columns):\n",
      " #   Column           Non-Null Count  Dtype  \n",
      "---  ------           --------------  -----  \n",
      " 0   userid           3000 non-null   int64  \n",
      " 1   date.crea        3000 non-null   object \n",
      " 2   score            3000 non-null   float64\n",
      " 3   n.matches        3000 non-null   int64  \n",
      " 4   n.updates.photo  3000 non-null   int64  \n",
      " 5   n.photos         3000 non-null   int64  \n",
      " 6   last.connex      3000 non-null   object \n",
      " 7   last.up.photo    3000 non-null   object \n",
      " 8   last.pr.update   0 non-null      float64\n",
      " 9   gender           3000 non-null   int64  \n",
      " 10  sent.ana         3000 non-null   float64\n",
      " 11  length.prof      3000 non-null   float64\n",
      " 12  voyage           3000 non-null   int64  \n",
      " 13  laugh            3000 non-null   int64  \n",
      " 14  photo.elevator   3000 non-null   int64  \n",
      " 15  photo.beach      3000 non-null   int64  \n",
      " 16  Country          3000 non-null   object \n",
      "dtypes: float64(4), int64(9), object(4)\n",
      "memory usage: 398.6+ KB\n",
      "None\n"
     ]
    }
   ],
   "source": [
    "print(tinder_df.info())\n"
   ]
  },
  {
   "cell_type": "code",
   "execution_count": 5,
   "metadata": {},
   "outputs": [],
   "source": [
    "# Rounding values\n",
    "tinder_df[[\"score\", \"sent.ana\", \"length.prof\"]] = tinder_df[[\"score\", \"sent.ana\", \"length.prof\"]].round()"
   ]
  },
  {
   "cell_type": "code",
   "execution_count": 6,
   "metadata": {},
   "outputs": [],
   "source": [
    "# Rename columns\n",
    "tinder_df.rename(columns={'score':'Score.Global','sent.ana':'Score.Profil','length.prof':'Nb.Mots'},inplace=True)"
   ]
  },
  {
   "cell_type": "code",
   "execution_count": 10,
   "metadata": {},
   "outputs": [],
   "source": [
    "# 1. Expliquez dans quelles circonstances l’on mobilise une analyse des correspondances, ou une analyse des correspondances multiples.\n",
    "\n",
    "# 1 Explain the circumstances in which a correspondence analysis or a multiple correspondence analysis is used."
   ]
  },
  {
   "cell_type": "code",
   "execution_count": 11,
   "metadata": {},
   "outputs": [],
   "source": [
    "# Correspondence analysis (CA) and multiple correspondence analysis (MCA) are exploratory statistical analysis methods used \n",
    "# mainly to analyse contingency tables (CA) or multidimensional categorical data (MCA). \n",
    "# Here are the circumstances in which each of these methods is used:\n",
    "\n",
    "\n",
    "    # 1. Correspondence analysis (CA) :\n",
    "\n",
    "    # CA is used when we wish to study the relationship between two qualitative or categorical variables, generally in the form of\n",
    "    # a contingency table. This analysis makes it possible to visualise the correspondences or associations between the rows and columns of the table.\n",
    "\n",
    "        # Typical circumstances :\n",
    "\n",
    "            # Relationship between two categorical variables: For example, to examine the relationship between gender (male/female) and type of car \n",
    "            # car (compact, saloon, SUV).\n",
    "\n",
    "            # Visualisation of associations: CA projects the modalities of the two variables onto a factorial plane to explore the associations in \n",
    "            # graphical form.\n",
    "\n",
    "            # Cross-tabulation of data: When data is presented in the form of a contingency table with frequencies.\n",
    "\n",
    "\n",
    "   # 2. Multiple Correspondence Analysis (MCA) :\n",
    "\n",
    "    # MCA is an extension of CA that allows more than two categorical variables to be analysed simultaneously. It is used to identify \n",
    "    # associations between several categorical variables and project them into a multidimensional space.\n",
    "\n",
    "        # Typical circumstances :\n",
    "\n",
    "            # Multivariate categorical data: When you want to analyse several categorical variables at the same time. For example, if we have \n",
    "            # data concerning the gender, socio-professional category and food preference of a group of individuals.\n",
    "\n",
    "            # Study of profiles: MCA can be used to identify profiles by grouping modalities that often appear together.\n",
    "\n",
    "            # Reduction of dimensionality: When there are many qualitative variables, the ACM can help to reduce complexity by visualising \n",
    "            # relationships on main axes.\n",
    "\n",
    "            # Exploration of segments: This method is often used in marketing to segment a population according to multiple \n",
    "            # criteria (age, preference, behaviour, etc.).\n",
    "\n",
    "\n",
    "    # Examples of applications:\n",
    "\n",
    "        # In marketing: Segment consumers according to several criteria (age, gender, region, product preference).\n",
    "\n",
    "        # Sociology: Study the correspondences between different social groups and their cultural or political behaviour.\n",
    "\n",
    "        # In environment: to study the relationships between different categorical environmental factors and their impacts.\n",
    "\n",
    "\n",
    "# In summary, CA is used to study the relationship between two qualitative variables, and MCA when several variables are involved. \n",
    "# variables. These analyses are particularly useful for exploring associations and reducing the dimensionality of # complex categorical data. \n",
    "# of complex categorical data."
   ]
  },
  {
   "cell_type": "code",
   "execution_count": 12,
   "metadata": {},
   "outputs": [],
   "source": [
    "# 2. Représentez les différentes variables qualitatives constitutives de ce jeu de données dans un plan factoriel, comme dans la figure ci-dessous. \n",
    "# Cantonnez vous aux variables, ne représentez pas les individus.\n",
    "\n",
    "# 2. Represent the different qualitative variables making up this data set in a factorial plan, as in the figure below. \n",
    "# Restrict yourself to the variables, do not represent the individuals.\n",
    "# Keeping qualitative features and converting data to string to get qualitative features."
   ]
  },
  {
   "cell_type": "code",
   "execution_count": 7,
   "metadata": {},
   "outputs": [
    {
     "name": "stdout",
     "output_type": "stream",
     "text": [
      "<class 'pandas.core.frame.DataFrame'>\n",
      "RangeIndex: 3000 entries, 0 to 2999\n",
      "Data columns (total 5 columns):\n",
      " #   Column          Non-Null Count  Dtype \n",
      "---  ------          --------------  ----- \n",
      " 0   Country         3000 non-null   object\n",
      " 1   voyage          3000 non-null   int64 \n",
      " 2   laugh           3000 non-null   int64 \n",
      " 3   photo.elevator  3000 non-null   int64 \n",
      " 4   photo.beach     3000 non-null   int64 \n",
      "dtypes: int64(4), object(1)\n",
      "memory usage: 117.3+ KB\n",
      "None\n",
      "<class 'pandas.core.frame.DataFrame'>\n",
      "RangeIndex: 3000 entries, 0 to 2999\n",
      "Data columns (total 5 columns):\n",
      " #   Column          Non-Null Count  Dtype \n",
      "---  ------          --------------  ----- \n",
      " 0   Country         3000 non-null   object\n",
      " 1   voyage          3000 non-null   object\n",
      " 2   laugh           3000 non-null   int64 \n",
      " 3   photo.elevator  3000 non-null   int64 \n",
      " 4   photo.beach     3000 non-null   int64 \n",
      "dtypes: int64(3), object(2)\n",
      "memory usage: 117.3+ KB\n",
      "None\n",
      "<class 'pandas.core.frame.DataFrame'>\n",
      "RangeIndex: 3000 entries, 0 to 2999\n",
      "Data columns (total 5 columns):\n",
      " #   Column          Non-Null Count  Dtype \n",
      "---  ------          --------------  ----- \n",
      " 0   Country         3000 non-null   object\n",
      " 1   voyage          3000 non-null   object\n",
      " 2   laugh           3000 non-null   object\n",
      " 3   photo.elevator  3000 non-null   int64 \n",
      " 4   photo.beach     3000 non-null   int64 \n",
      "dtypes: int64(2), object(3)\n",
      "memory usage: 117.3+ KB\n",
      "None\n",
      "<class 'pandas.core.frame.DataFrame'>\n",
      "RangeIndex: 3000 entries, 0 to 2999\n",
      "Data columns (total 5 columns):\n",
      " #   Column          Non-Null Count  Dtype \n",
      "---  ------          --------------  ----- \n",
      " 0   Country         3000 non-null   object\n",
      " 1   voyage          3000 non-null   object\n",
      " 2   laugh           3000 non-null   object\n",
      " 3   photo.elevator  3000 non-null   object\n",
      " 4   photo.beach     3000 non-null   int64 \n",
      "dtypes: int64(1), object(4)\n",
      "memory usage: 117.3+ KB\n",
      "None\n",
      "<class 'pandas.core.frame.DataFrame'>\n",
      "RangeIndex: 3000 entries, 0 to 2999\n",
      "Data columns (total 5 columns):\n",
      " #   Column          Non-Null Count  Dtype \n",
      "---  ------          --------------  ----- \n",
      " 0   Country         3000 non-null   object\n",
      " 1   voyage          3000 non-null   object\n",
      " 2   laugh           3000 non-null   object\n",
      " 3   photo.elevator  3000 non-null   object\n",
      " 4   photo.beach     3000 non-null   object\n",
      "dtypes: object(5)\n",
      "memory usage: 117.3+ KB\n",
      "None\n"
     ]
    },
    {
     "name": "stderr",
     "output_type": "stream",
     "text": [
      "C:\\Users\\emmhu\\AppData\\Local\\Temp\\ipykernel_3968\\3508769182.py:4: SettingWithCopyWarning: \n",
      "A value is trying to be set on a copy of a slice from a DataFrame.\n",
      "Try using .loc[row_indexer,col_indexer] = value instead\n",
      "\n",
      "See the caveats in the documentation: https://pandas.pydata.org/pandas-docs/stable/user_guide/indexing.html#returning-a-view-versus-a-copy\n",
      "  users_qualit[i] = users_qualit[i].astype(\"str\")\n",
      "C:\\Users\\emmhu\\AppData\\Local\\Temp\\ipykernel_3968\\3508769182.py:4: SettingWithCopyWarning: \n",
      "A value is trying to be set on a copy of a slice from a DataFrame.\n",
      "Try using .loc[row_indexer,col_indexer] = value instead\n",
      "\n",
      "See the caveats in the documentation: https://pandas.pydata.org/pandas-docs/stable/user_guide/indexing.html#returning-a-view-versus-a-copy\n",
      "  users_qualit[i] = users_qualit[i].astype(\"str\")\n",
      "C:\\Users\\emmhu\\AppData\\Local\\Temp\\ipykernel_3968\\3508769182.py:4: SettingWithCopyWarning: \n",
      "A value is trying to be set on a copy of a slice from a DataFrame.\n",
      "Try using .loc[row_indexer,col_indexer] = value instead\n",
      "\n",
      "See the caveats in the documentation: https://pandas.pydata.org/pandas-docs/stable/user_guide/indexing.html#returning-a-view-versus-a-copy\n",
      "  users_qualit[i] = users_qualit[i].astype(\"str\")\n",
      "C:\\Users\\emmhu\\AppData\\Local\\Temp\\ipykernel_3968\\3508769182.py:4: SettingWithCopyWarning: \n",
      "A value is trying to be set on a copy of a slice from a DataFrame.\n",
      "Try using .loc[row_indexer,col_indexer] = value instead\n",
      "\n",
      "See the caveats in the documentation: https://pandas.pydata.org/pandas-docs/stable/user_guide/indexing.html#returning-a-view-versus-a-copy\n",
      "  users_qualit[i] = users_qualit[i].astype(\"str\")\n",
      "C:\\Users\\emmhu\\AppData\\Local\\Temp\\ipykernel_3968\\3508769182.py:4: SettingWithCopyWarning: \n",
      "A value is trying to be set on a copy of a slice from a DataFrame.\n",
      "Try using .loc[row_indexer,col_indexer] = value instead\n",
      "\n",
      "See the caveats in the documentation: https://pandas.pydata.org/pandas-docs/stable/user_guide/indexing.html#returning-a-view-versus-a-copy\n",
      "  users_qualit[i] = users_qualit[i].astype(\"str\")\n"
     ]
    }
   ],
   "source": [
    "users_qualit= tinder_df[[\"Country\", \"voyage\", \"laugh\", \"photo.elevator\", \"photo.beach\"]]\n",
    "\n",
    "for i in users_qualit.columns:\n",
    " users_qualit[i] = users_qualit[i].astype(\"str\")\n",
    " print(users_qualit.info())"
   ]
  },
  {
   "cell_type": "code",
   "execution_count": 8,
   "metadata": {},
   "outputs": [],
   "source": [
    "# Perform MCA with prince\n",
    "mca = prince.MCA(n_components=2,\n",
    "    n_iter=2,\n",
    "    copy=True,\n",
    "    check_input=True,\n",
    "    engine='sklearn',\n",
    "    random_state=42\n",
    ") # Initialize MCA\n",
    "\n",
    "# Fit the MCA model to the qualitative data\n",
    "mca_users_qualit = mca.fit(users_qualit) # Fit the MCA model to the qualitative data. "
   ]
  },
  {
   "cell_type": "code",
   "execution_count": 9,
   "metadata": {},
   "outputs": [],
   "source": [
    "# Using One-Hot Encoding to convert categorical variables in users_qualit into a disjunctive table\n",
    "one_hot = pd.get_dummies(users_qualit)\n",
    "\n",
    "mca_no_one_hot = prince.MCA(one_hot=False) # Initializes an MCA model with one_hot=False. Specify that the input data is already one-hot \n",
    "                                           # encoded and doesn't require further preprocessing.\n",
    "\n",
    "mca_no_one_hot = mca_no_one_hot.fit(one_hot) # Fits the MCA model to the one-hot encoded dataset (one_hot). Processes the binary matrix to calculate \n",
    "                                             # eigenvalues, coordinates, and other MCA outputs"
   ]
  },
  {
   "cell_type": "code",
   "execution_count": 10,
   "metadata": {},
   "outputs": [
    {
     "name": "stdout",
     "output_type": "stream",
     "text": [
      "             0         1\n",
      "0    -0.223936 -0.391137\n",
      "1     0.814668 -0.525644\n",
      "2     0.936202  0.125304\n",
      "3     0.587992 -0.384968\n",
      "4    -0.136960  0.225645\n",
      "...        ...       ...\n",
      "2995 -0.015425  0.876593\n",
      "2996 -0.363636  0.366320\n",
      "2997  0.002740 -0.531813\n",
      "2998  0.124275  0.119135\n",
      "2999 -0.223936 -0.391137\n",
      "\n",
      "[3000 rows x 2 columns]\n"
     ]
    }
   ],
   "source": [
    "# Displaying row coordinates\n",
    "row_coordinates=mca.row_coordinates(users_qualit)\n",
    "print(row_coordinates)"
   ]
  },
  {
   "cell_type": "code",
   "execution_count": 11,
   "metadata": {},
   "outputs": [
    {
     "name": "stdout",
     "output_type": "stream",
     "text": [
      "                         0         1\n",
      "Country_England   0.363376  0.882161\n",
      "Country_France   -0.443305 -0.279105\n",
      "Country_Germany   0.081824 -0.599251\n",
      "voyage_0         -0.095672 -0.194380\n",
      "voyage_1          0.335933  0.682523\n",
      "laugh_0           0.063325 -0.337291\n",
      "laugh_1          -0.260311  1.386513\n",
      "photo.elevator_0  0.279769 -0.076954\n",
      "photo.elevator_1 -1.465151  0.403009\n",
      "photo.beach_0    -0.322896 -0.002410\n",
      "photo.beach_1     1.558052  0.011629\n"
     ]
    }
   ],
   "source": [
    "# Displaying column coordinates\n",
    "column_coordinates=mca.column_coordinates(users_qualit)\n",
    "print(column_coordinates)"
   ]
  },
  {
   "cell_type": "code",
   "execution_count": 16,
   "metadata": {},
   "outputs": [
    {
     "data": {
      "text/html": [
       "\n",
       "<style>\n",
       "  #altair-viz-ec001c404dd340c5a7149611531c4ea1.vega-embed {\n",
       "    width: 100%;\n",
       "    display: flex;\n",
       "  }\n",
       "\n",
       "  #altair-viz-ec001c404dd340c5a7149611531c4ea1.vega-embed details,\n",
       "  #altair-viz-ec001c404dd340c5a7149611531c4ea1.vega-embed details summary {\n",
       "    position: relative;\n",
       "  }\n",
       "</style>\n",
       "<div id=\"altair-viz-ec001c404dd340c5a7149611531c4ea1\"></div>\n",
       "<script type=\"text/javascript\">\n",
       "  var VEGA_DEBUG = (typeof VEGA_DEBUG == \"undefined\") ? {} : VEGA_DEBUG;\n",
       "  (function(spec, embedOpt){\n",
       "    let outputDiv = document.currentScript.previousElementSibling;\n",
       "    if (outputDiv.id !== \"altair-viz-ec001c404dd340c5a7149611531c4ea1\") {\n",
       "      outputDiv = document.getElementById(\"altair-viz-ec001c404dd340c5a7149611531c4ea1\");\n",
       "    }\n",
       "    const paths = {\n",
       "      \"vega\": \"https://cdn.jsdelivr.net/npm/vega@5?noext\",\n",
       "      \"vega-lib\": \"https://cdn.jsdelivr.net/npm/vega-lib?noext\",\n",
       "      \"vega-lite\": \"https://cdn.jsdelivr.net/npm/vega-lite@5.20.1?noext\",\n",
       "      \"vega-embed\": \"https://cdn.jsdelivr.net/npm/vega-embed@6?noext\",\n",
       "    };\n",
       "\n",
       "    function maybeLoadScript(lib, version) {\n",
       "      var key = `${lib.replace(\"-\", \"\")}_version`;\n",
       "      return (VEGA_DEBUG[key] == version) ?\n",
       "        Promise.resolve(paths[lib]) :\n",
       "        new Promise(function(resolve, reject) {\n",
       "          var s = document.createElement('script');\n",
       "          document.getElementsByTagName(\"head\")[0].appendChild(s);\n",
       "          s.async = true;\n",
       "          s.onload = () => {\n",
       "            VEGA_DEBUG[key] = version;\n",
       "            return resolve(paths[lib]);\n",
       "          };\n",
       "          s.onerror = () => reject(`Error loading script: ${paths[lib]}`);\n",
       "          s.src = paths[lib];\n",
       "        });\n",
       "    }\n",
       "\n",
       "    function showError(err) {\n",
       "      outputDiv.innerHTML = `<div class=\"error\" style=\"color:red;\">${err}</div>`;\n",
       "      throw err;\n",
       "    }\n",
       "\n",
       "    function displayChart(vegaEmbed) {\n",
       "      vegaEmbed(outputDiv, spec, embedOpt)\n",
       "        .catch(err => showError(`Javascript Error: ${err.message}<br>This usually means there's a typo in your chart specification. See the javascript console for the full traceback.`));\n",
       "    }\n",
       "\n",
       "    if(typeof define === \"function\" && define.amd) {\n",
       "      requirejs.config({paths});\n",
       "      require([\"vega-embed\"], displayChart, err => showError(`Error loading script: ${err.message}`));\n",
       "    } else {\n",
       "      maybeLoadScript(\"vega\", \"5\")\n",
       "        .then(() => maybeLoadScript(\"vega-lite\", \"5.20.1\"))\n",
       "        .then(() => maybeLoadScript(\"vega-embed\", \"6\"))\n",
       "        .catch(showError)\n",
       "        .then(() => displayChart(vegaEmbed));\n",
       "    }\n",
       "  })({\"config\": {\"view\": {\"continuousWidth\": 300, \"continuousHeight\": 300}}, \"layer\": [{\"mark\": {\"type\": \"circle\", \"size\": 50}, \"encoding\": {\"color\": {\"field\": \"variable\", \"type\": \"nominal\"}, \"tooltip\": [{\"field\": \"variable\", \"type\": \"nominal\"}, {\"field\": \"value\", \"type\": \"nominal\"}, {\"field\": \"component 0\", \"type\": \"quantitative\"}, {\"field\": \"component 1\", \"type\": \"quantitative\"}], \"x\": {\"axis\": {\"title\": \"component 0 \\u2014 17.89%\"}, \"field\": \"component 0\", \"scale\": {\"zero\": false}, \"type\": \"quantitative\"}, \"y\": {\"axis\": {\"title\": \"component 1 \\u2014 17.26%\"}, \"field\": \"component 1\", \"scale\": {\"zero\": false}, \"type\": \"quantitative\"}}, \"name\": \"view_1\"}, {\"mark\": {\"type\": \"text\"}, \"encoding\": {\"text\": {\"field\": \"label\", \"type\": \"nominal\"}, \"x\": {\"axis\": {\"title\": \"component 0 \\u2014 17.89%\"}, \"field\": \"component 0\", \"scale\": {\"zero\": false}, \"type\": \"quantitative\"}, \"y\": {\"axis\": {\"title\": \"component 1 \\u2014 17.26%\"}, \"field\": \"component 1\", \"scale\": {\"zero\": false}, \"type\": \"quantitative\"}}}], \"data\": {\"name\": \"data-1b5d86eb33e34293b962c0463fca57df\"}, \"params\": [{\"name\": \"param_3\", \"select\": {\"type\": \"interval\", \"encodings\": [\"x\", \"y\"]}, \"bind\": \"scales\", \"views\": [\"view_1\"]}], \"$schema\": \"https://vega.github.io/schema/vega-lite/v5.20.1.json\", \"datasets\": {\"data-1b5d86eb33e34293b962c0463fca57df\": [{\"component 0\": 0.3633759093254314, \"component 1\": 0.8821609237887381, \"variable\": \"column\", \"value\": \"Country_England\", \"label\": \"Country_England\"}, {\"component 0\": -0.4433048100781375, \"component 1\": -0.27910549725356304, \"variable\": \"column\", \"value\": \"Country_France\", \"label\": \"Country_France\"}, {\"component 0\": 0.08182381428655279, \"component 1\": -0.5992514812880135, \"variable\": \"column\", \"value\": \"Country_Germany\", \"label\": \"Country_Germany\"}, {\"component 0\": -0.09567243796655617, \"component 1\": -0.19438011828314372, \"variable\": \"column\", \"value\": \"voyage_0\", \"label\": \"voyage_0\"}, {\"component 0\": 0.33593254534121647, \"component 1\": 0.682522670964121, \"variable\": \"column\", \"value\": \"voyage_1\", \"label\": \"voyage_1\"}, {\"component 0\": 0.0633246589356759, \"component 1\": -0.33729107946885994, \"variable\": \"column\", \"value\": \"laugh_0\", \"label\": \"laugh_0\"}, {\"component 0\": -0.26031073596556353, \"component 1\": 1.38651341526126, \"variable\": \"column\", \"value\": \"laugh_1\", \"label\": \"laugh_1\"}, {\"component 0\": 0.2797687623559455, \"component 1\": -0.0769540739487134, \"variable\": \"column\", \"value\": \"photo.elevator_0\", \"label\": \"photo.elevator_0\"}, {\"component 0\": -1.4651507533776027, \"component 1\": 0.4030089652324518, \"variable\": \"column\", \"value\": \"photo.elevator_1\", \"label\": \"photo.elevator_1\"}, {\"component 0\": -0.3228961352425886, \"component 1\": -0.0024100711336874662, \"variable\": \"column\", \"value\": \"photo.beach_0\", \"label\": \"photo.beach_0\"}, {\"component 0\": 1.55805222539385, \"component 1\": 0.011629178188764052, \"variable\": \"column\", \"value\": \"photo.beach_1\", \"label\": \"photo.beach_1\"}]}}, {\"mode\": \"vega-lite\"});\n",
       "</script>"
      ],
      "text/plain": [
       "alt.LayerChart(...)"
      ]
     },
     "execution_count": 16,
     "metadata": {},
     "output_type": "execute_result"
    }
   ],
   "source": [
    "# Visualizing the Results\n",
    "mca.plot(\n",
    "    users_qualit,\n",
    "    x_component=0,\n",
    "    y_component=1,\n",
    "    show_column_markers=True,\n",
    "    show_row_markers=False,\n",
    "    show_column_labels=True,\n",
    "    show_row_labels=False\n",
    ")\n",
    "\n"
   ]
  },
  {
   "cell_type": "code",
   "execution_count": 18,
   "metadata": {},
   "outputs": [
    {
     "data": {
      "application/vnd.plotly.v1+json": {
       "config": {
        "plotlyServerURL": "https://plot.ly"
       },
       "data": [
        {
         "hovertemplate": "Component 1=%{x}<br>Component 2=%{y}<br>label=%{text}<extra></extra>",
         "legendgroup": "",
         "marker": {
          "color": "#636efa",
          "symbol": "circle"
         },
         "mode": "markers+text",
         "name": "",
         "orientation": "v",
         "showlegend": false,
         "text": [
          "Country_England",
          "Country_France",
          "Country_Germany",
          "voyage_0",
          "voyage_1",
          "laugh_0",
          "laugh_1",
          "photo.elevator_0",
          "photo.elevator_1",
          "photo.beach_0",
          "photo.beach_1"
         ],
         "textposition": "top center",
         "type": "scatter",
         "x": [
          0.3633759093254431,
          -0.44330481007816425,
          0.08182381428657044,
          -0.09567243796655946,
          0.3359325453412327,
          0.06332465893566,
          -0.2603107359654929,
          0.27976876235594506,
          -1.4651507533775943,
          -0.3228961352425882,
          1.5580522253938556
         ],
         "xaxis": "x",
         "y": [
          0.8821609237886994,
          -0.2791054972534672,
          -0.5992514812880715,
          -0.19438011828315654,
          0.6825226709641663,
          -0.3372910794688598,
          1.3865134152612582,
          -0.07695407394871565,
          0.4030089652324627,
          -0.0024100711336813405,
          0.011629178188733595
         ],
         "yaxis": "y"
        }
       ],
       "layout": {
        "legend": {
         "tracegroupgap": 0
        },
        "template": {
         "data": {
          "bar": [
           {
            "error_x": {
             "color": "#2a3f5f"
            },
            "error_y": {
             "color": "#2a3f5f"
            },
            "marker": {
             "line": {
              "color": "#E5ECF6",
              "width": 0.5
             },
             "pattern": {
              "fillmode": "overlay",
              "size": 10,
              "solidity": 0.2
             }
            },
            "type": "bar"
           }
          ],
          "barpolar": [
           {
            "marker": {
             "line": {
              "color": "#E5ECF6",
              "width": 0.5
             },
             "pattern": {
              "fillmode": "overlay",
              "size": 10,
              "solidity": 0.2
             }
            },
            "type": "barpolar"
           }
          ],
          "carpet": [
           {
            "aaxis": {
             "endlinecolor": "#2a3f5f",
             "gridcolor": "white",
             "linecolor": "white",
             "minorgridcolor": "white",
             "startlinecolor": "#2a3f5f"
            },
            "baxis": {
             "endlinecolor": "#2a3f5f",
             "gridcolor": "white",
             "linecolor": "white",
             "minorgridcolor": "white",
             "startlinecolor": "#2a3f5f"
            },
            "type": "carpet"
           }
          ],
          "choropleth": [
           {
            "colorbar": {
             "outlinewidth": 0,
             "ticks": ""
            },
            "type": "choropleth"
           }
          ],
          "contour": [
           {
            "colorbar": {
             "outlinewidth": 0,
             "ticks": ""
            },
            "colorscale": [
             [
              0,
              "#0d0887"
             ],
             [
              0.1111111111111111,
              "#46039f"
             ],
             [
              0.2222222222222222,
              "#7201a8"
             ],
             [
              0.3333333333333333,
              "#9c179e"
             ],
             [
              0.4444444444444444,
              "#bd3786"
             ],
             [
              0.5555555555555556,
              "#d8576b"
             ],
             [
              0.6666666666666666,
              "#ed7953"
             ],
             [
              0.7777777777777778,
              "#fb9f3a"
             ],
             [
              0.8888888888888888,
              "#fdca26"
             ],
             [
              1,
              "#f0f921"
             ]
            ],
            "type": "contour"
           }
          ],
          "contourcarpet": [
           {
            "colorbar": {
             "outlinewidth": 0,
             "ticks": ""
            },
            "type": "contourcarpet"
           }
          ],
          "heatmap": [
           {
            "colorbar": {
             "outlinewidth": 0,
             "ticks": ""
            },
            "colorscale": [
             [
              0,
              "#0d0887"
             ],
             [
              0.1111111111111111,
              "#46039f"
             ],
             [
              0.2222222222222222,
              "#7201a8"
             ],
             [
              0.3333333333333333,
              "#9c179e"
             ],
             [
              0.4444444444444444,
              "#bd3786"
             ],
             [
              0.5555555555555556,
              "#d8576b"
             ],
             [
              0.6666666666666666,
              "#ed7953"
             ],
             [
              0.7777777777777778,
              "#fb9f3a"
             ],
             [
              0.8888888888888888,
              "#fdca26"
             ],
             [
              1,
              "#f0f921"
             ]
            ],
            "type": "heatmap"
           }
          ],
          "heatmapgl": [
           {
            "colorbar": {
             "outlinewidth": 0,
             "ticks": ""
            },
            "colorscale": [
             [
              0,
              "#0d0887"
             ],
             [
              0.1111111111111111,
              "#46039f"
             ],
             [
              0.2222222222222222,
              "#7201a8"
             ],
             [
              0.3333333333333333,
              "#9c179e"
             ],
             [
              0.4444444444444444,
              "#bd3786"
             ],
             [
              0.5555555555555556,
              "#d8576b"
             ],
             [
              0.6666666666666666,
              "#ed7953"
             ],
             [
              0.7777777777777778,
              "#fb9f3a"
             ],
             [
              0.8888888888888888,
              "#fdca26"
             ],
             [
              1,
              "#f0f921"
             ]
            ],
            "type": "heatmapgl"
           }
          ],
          "histogram": [
           {
            "marker": {
             "pattern": {
              "fillmode": "overlay",
              "size": 10,
              "solidity": 0.2
             }
            },
            "type": "histogram"
           }
          ],
          "histogram2d": [
           {
            "colorbar": {
             "outlinewidth": 0,
             "ticks": ""
            },
            "colorscale": [
             [
              0,
              "#0d0887"
             ],
             [
              0.1111111111111111,
              "#46039f"
             ],
             [
              0.2222222222222222,
              "#7201a8"
             ],
             [
              0.3333333333333333,
              "#9c179e"
             ],
             [
              0.4444444444444444,
              "#bd3786"
             ],
             [
              0.5555555555555556,
              "#d8576b"
             ],
             [
              0.6666666666666666,
              "#ed7953"
             ],
             [
              0.7777777777777778,
              "#fb9f3a"
             ],
             [
              0.8888888888888888,
              "#fdca26"
             ],
             [
              1,
              "#f0f921"
             ]
            ],
            "type": "histogram2d"
           }
          ],
          "histogram2dcontour": [
           {
            "colorbar": {
             "outlinewidth": 0,
             "ticks": ""
            },
            "colorscale": [
             [
              0,
              "#0d0887"
             ],
             [
              0.1111111111111111,
              "#46039f"
             ],
             [
              0.2222222222222222,
              "#7201a8"
             ],
             [
              0.3333333333333333,
              "#9c179e"
             ],
             [
              0.4444444444444444,
              "#bd3786"
             ],
             [
              0.5555555555555556,
              "#d8576b"
             ],
             [
              0.6666666666666666,
              "#ed7953"
             ],
             [
              0.7777777777777778,
              "#fb9f3a"
             ],
             [
              0.8888888888888888,
              "#fdca26"
             ],
             [
              1,
              "#f0f921"
             ]
            ],
            "type": "histogram2dcontour"
           }
          ],
          "mesh3d": [
           {
            "colorbar": {
             "outlinewidth": 0,
             "ticks": ""
            },
            "type": "mesh3d"
           }
          ],
          "parcoords": [
           {
            "line": {
             "colorbar": {
              "outlinewidth": 0,
              "ticks": ""
             }
            },
            "type": "parcoords"
           }
          ],
          "pie": [
           {
            "automargin": true,
            "type": "pie"
           }
          ],
          "scatter": [
           {
            "fillpattern": {
             "fillmode": "overlay",
             "size": 10,
             "solidity": 0.2
            },
            "type": "scatter"
           }
          ],
          "scatter3d": [
           {
            "line": {
             "colorbar": {
              "outlinewidth": 0,
              "ticks": ""
             }
            },
            "marker": {
             "colorbar": {
              "outlinewidth": 0,
              "ticks": ""
             }
            },
            "type": "scatter3d"
           }
          ],
          "scattercarpet": [
           {
            "marker": {
             "colorbar": {
              "outlinewidth": 0,
              "ticks": ""
             }
            },
            "type": "scattercarpet"
           }
          ],
          "scattergeo": [
           {
            "marker": {
             "colorbar": {
              "outlinewidth": 0,
              "ticks": ""
             }
            },
            "type": "scattergeo"
           }
          ],
          "scattergl": [
           {
            "marker": {
             "colorbar": {
              "outlinewidth": 0,
              "ticks": ""
             }
            },
            "type": "scattergl"
           }
          ],
          "scattermapbox": [
           {
            "marker": {
             "colorbar": {
              "outlinewidth": 0,
              "ticks": ""
             }
            },
            "type": "scattermapbox"
           }
          ],
          "scatterpolar": [
           {
            "marker": {
             "colorbar": {
              "outlinewidth": 0,
              "ticks": ""
             }
            },
            "type": "scatterpolar"
           }
          ],
          "scatterpolargl": [
           {
            "marker": {
             "colorbar": {
              "outlinewidth": 0,
              "ticks": ""
             }
            },
            "type": "scatterpolargl"
           }
          ],
          "scatterternary": [
           {
            "marker": {
             "colorbar": {
              "outlinewidth": 0,
              "ticks": ""
             }
            },
            "type": "scatterternary"
           }
          ],
          "surface": [
           {
            "colorbar": {
             "outlinewidth": 0,
             "ticks": ""
            },
            "colorscale": [
             [
              0,
              "#0d0887"
             ],
             [
              0.1111111111111111,
              "#46039f"
             ],
             [
              0.2222222222222222,
              "#7201a8"
             ],
             [
              0.3333333333333333,
              "#9c179e"
             ],
             [
              0.4444444444444444,
              "#bd3786"
             ],
             [
              0.5555555555555556,
              "#d8576b"
             ],
             [
              0.6666666666666666,
              "#ed7953"
             ],
             [
              0.7777777777777778,
              "#fb9f3a"
             ],
             [
              0.8888888888888888,
              "#fdca26"
             ],
             [
              1,
              "#f0f921"
             ]
            ],
            "type": "surface"
           }
          ],
          "table": [
           {
            "cells": {
             "fill": {
              "color": "#EBF0F8"
             },
             "line": {
              "color": "white"
             }
            },
            "header": {
             "fill": {
              "color": "#C8D4E3"
             },
             "line": {
              "color": "white"
             }
            },
            "type": "table"
           }
          ]
         },
         "layout": {
          "annotationdefaults": {
           "arrowcolor": "#2a3f5f",
           "arrowhead": 0,
           "arrowwidth": 1
          },
          "autotypenumbers": "strict",
          "coloraxis": {
           "colorbar": {
            "outlinewidth": 0,
            "ticks": ""
           }
          },
          "colorscale": {
           "diverging": [
            [
             0,
             "#8e0152"
            ],
            [
             0.1,
             "#c51b7d"
            ],
            [
             0.2,
             "#de77ae"
            ],
            [
             0.3,
             "#f1b6da"
            ],
            [
             0.4,
             "#fde0ef"
            ],
            [
             0.5,
             "#f7f7f7"
            ],
            [
             0.6,
             "#e6f5d0"
            ],
            [
             0.7,
             "#b8e186"
            ],
            [
             0.8,
             "#7fbc41"
            ],
            [
             0.9,
             "#4d9221"
            ],
            [
             1,
             "#276419"
            ]
           ],
           "sequential": [
            [
             0,
             "#0d0887"
            ],
            [
             0.1111111111111111,
             "#46039f"
            ],
            [
             0.2222222222222222,
             "#7201a8"
            ],
            [
             0.3333333333333333,
             "#9c179e"
            ],
            [
             0.4444444444444444,
             "#bd3786"
            ],
            [
             0.5555555555555556,
             "#d8576b"
            ],
            [
             0.6666666666666666,
             "#ed7953"
            ],
            [
             0.7777777777777778,
             "#fb9f3a"
            ],
            [
             0.8888888888888888,
             "#fdca26"
            ],
            [
             1,
             "#f0f921"
            ]
           ],
           "sequentialminus": [
            [
             0,
             "#0d0887"
            ],
            [
             0.1111111111111111,
             "#46039f"
            ],
            [
             0.2222222222222222,
             "#7201a8"
            ],
            [
             0.3333333333333333,
             "#9c179e"
            ],
            [
             0.4444444444444444,
             "#bd3786"
            ],
            [
             0.5555555555555556,
             "#d8576b"
            ],
            [
             0.6666666666666666,
             "#ed7953"
            ],
            [
             0.7777777777777778,
             "#fb9f3a"
            ],
            [
             0.8888888888888888,
             "#fdca26"
            ],
            [
             1,
             "#f0f921"
            ]
           ]
          },
          "colorway": [
           "#636efa",
           "#EF553B",
           "#00cc96",
           "#ab63fa",
           "#FFA15A",
           "#19d3f3",
           "#FF6692",
           "#B6E880",
           "#FF97FF",
           "#FECB52"
          ],
          "font": {
           "color": "#2a3f5f"
          },
          "geo": {
           "bgcolor": "white",
           "lakecolor": "white",
           "landcolor": "#E5ECF6",
           "showlakes": true,
           "showland": true,
           "subunitcolor": "white"
          },
          "hoverlabel": {
           "align": "left"
          },
          "hovermode": "closest",
          "mapbox": {
           "style": "light"
          },
          "paper_bgcolor": "white",
          "plot_bgcolor": "#E5ECF6",
          "polar": {
           "angularaxis": {
            "gridcolor": "white",
            "linecolor": "white",
            "ticks": ""
           },
           "bgcolor": "#E5ECF6",
           "radialaxis": {
            "gridcolor": "white",
            "linecolor": "white",
            "ticks": ""
           }
          },
          "scene": {
           "xaxis": {
            "backgroundcolor": "#E5ECF6",
            "gridcolor": "white",
            "gridwidth": 2,
            "linecolor": "white",
            "showbackground": true,
            "ticks": "",
            "zerolinecolor": "white"
           },
           "yaxis": {
            "backgroundcolor": "#E5ECF6",
            "gridcolor": "white",
            "gridwidth": 2,
            "linecolor": "white",
            "showbackground": true,
            "ticks": "",
            "zerolinecolor": "white"
           },
           "zaxis": {
            "backgroundcolor": "#E5ECF6",
            "gridcolor": "white",
            "gridwidth": 2,
            "linecolor": "white",
            "showbackground": true,
            "ticks": "",
            "zerolinecolor": "white"
           }
          },
          "shapedefaults": {
           "line": {
            "color": "#2a3f5f"
           }
          },
          "ternary": {
           "aaxis": {
            "gridcolor": "white",
            "linecolor": "white",
            "ticks": ""
           },
           "baxis": {
            "gridcolor": "white",
            "linecolor": "white",
            "ticks": ""
           },
           "bgcolor": "#E5ECF6",
           "caxis": {
            "gridcolor": "white",
            "linecolor": "white",
            "ticks": ""
           }
          },
          "title": {
           "x": 0.05
          },
          "xaxis": {
           "automargin": true,
           "gridcolor": "white",
           "linecolor": "white",
           "ticks": "",
           "title": {
            "standoff": 15
           },
           "zerolinecolor": "white",
           "zerolinewidth": 2
          },
          "yaxis": {
           "automargin": true,
           "gridcolor": "white",
           "linecolor": "white",
           "ticks": "",
           "title": {
            "standoff": 15
           },
           "zerolinecolor": "white",
           "zerolinewidth": 2
          }
         }
        },
        "title": {
         "text": "Figure 2 : MCA of Tinder Users - Qualitative Variables (with Plotly)"
        },
        "xaxis": {
         "anchor": "y",
         "domain": [
          0,
          1
         ],
         "title": {
          "text": "Component 1"
         }
        },
        "yaxis": {
         "anchor": "x",
         "domain": [
          0,
          1
         ],
         "title": {
          "text": "Component 2"
         }
        }
       }
      }
     },
     "metadata": {},
     "output_type": "display_data"
    }
   ],
   "source": [
    "## Doing MCA plot with Plotly\n",
    "\n",
    "# Fit the MCA model\n",
    "mca = prince.MCA(n_components=2).fit(users_qualit)\n",
    "\n",
    "# Get the coordinates of the columns (categorical levels)\n",
    "column_coords = mca.column_coordinates(users_qualit).reset_index()\n",
    "column_coords.columns = ['label', 'x', 'y']  # Rename for clarity\n",
    "\n",
    "# Plot with Plotly\n",
    "fig = px.scatter(\n",
    "    column_coords,\n",
    "    x='x',\n",
    "    y='y',\n",
    "    text='label',\n",
    "    title='Figure 2 : MCA of Tinder Users - Qualitative Variables (with Plotly)',\n",
    "    labels={'x': 'Component 1', 'y': 'Component 2'},\n",
    ")\n",
    "\n",
    "# Make labels show up on hover and as text\n",
    "fig.update_traces(textposition='top center')\n",
    "\n",
    "# Save the interactive HTML file\n",
    "fig.write_html(\"Figure2_MCA_of_tinder_users_qualitative_variables_(with_plotly).html\")\n",
    "\n",
    "# Show the interactive plot\n",
    "fig.show()"
   ]
  },
  {
   "cell_type": "code",
   "execution_count": 19,
   "metadata": {},
   "outputs": [],
   "source": [
    "# 3. Que constatez vous quant a l’inertie représentée sur ce plan ?\n",
    "\n",
    "# 3. What do you notice about the inertia represented on this plane?"
   ]
  },
  {
   "cell_type": "code",
   "execution_count": 63,
   "metadata": {},
   "outputs": [],
   "source": [
    "# Extract eigenvalues\n",
    "eigenvalues = mca.eigenvalues_"
   ]
  },
  {
   "cell_type": "code",
   "execution_count": 64,
   "metadata": {},
   "outputs": [
    {
     "name": "stdout",
     "output_type": "stream",
     "text": [
      "          eigenvalue % of variance % of variance (cumulative)\n",
      "component                                                    \n",
      "0              0.215        17.89%                     17.89%\n",
      "1              0.207        17.26%                     35.15%\n"
     ]
    }
   ],
   "source": [
    "# Displaying Eigenvalues\n",
    "print(mca.eigenvalues_summary)\n"
   ]
  },
  {
   "cell_type": "code",
   "execution_count": 65,
   "metadata": {},
   "outputs": [
    {
     "name": "stdout",
     "output_type": "stream",
     "text": [
      "Explained Inertia: [0.5088984457396056, 0.49110155426039437]\n"
     ]
    }
   ],
   "source": [
    "# Explained Inertia\n",
    "eigenvalues = mca.eigenvalues_\n",
    "total_inertia = sum(eigenvalues)\n",
    "explained_inertia = [eig / total_inertia for eig in eigenvalues]\n",
    "\n",
    "print(\"Explained Inertia:\", explained_inertia)"
   ]
  },
  {
   "cell_type": "code",
   "execution_count": 23,
   "metadata": {},
   "outputs": [],
   "source": [
    "# Both dimensions contribute nearly equally to the representation, as the explained inertia for Dimension 1 (50.89%) is only slightly \n",
    "# higher than Dimension 2 (49.11%). This balance suggests that the interpretation of the plane requires considering both dimensions together \n",
    "# rather than favoring one.\n",
    "\n",
    "# On the limitations side we can observe the total variance captured by the plane (35.15%) indicates that the first two dimensions only \n",
    "# partially summarize the dataset's structure. Consequently 64.85% of the variability is not captured by these two dimensions. \n",
    "# Patterns and relationships visible in this plane are meaningful but incomplete, as significant variability remains in the higher dimensions.\n"
   ]
  },
  {
   "cell_type": "code",
   "execution_count": 24,
   "metadata": {},
   "outputs": [],
   "source": [
    "# 4. Nonobstant la valeur de la variance associée aux deux premiers axes, tâchez de d´ecrire sans valeur chiffrée ce que vous visualisez dans la dernière\n",
    "# figure, en termes de phénomène macrosocial. Il s’agit ici de faire émerger des formes de profils-type d’utilisateurs d’application de dating.\n",
    "\n",
    "# 4. Notwithstanding the value of the variance associated with the first two axes, try to write down without a numerical value what you see in the last figure, \n",
    "# in terms of a macrosocial phenomenon. The aim here is to bring out the typical profiles of dating application users."
   ]
  },
  {
   "cell_type": "code",
   "execution_count": 25,
   "metadata": {},
   "outputs": [],
   "source": [
    "# We can see that the ‘voyage_0’, 'laugh_0' and 'Country_France' variables are very close in the graph. This indication\n",
    "# reveals an initial user profile. This user do not like to share travel experience and laughter moment and lives in France\n",
    "# We can suppose there is a group of people living in France  who see dating as a serious subject.\n",
    "\n",
    "# We can observe variables 'Voyage_1' and ‘'Country_England’ are very close. The user profil N°2 is interested in travel subjects\n",
    "# and like to show pictures of travel. This profile also live in England.\n",
    "\n",
    "# For the 3rd profile, we can observe people with a quirky sense of Art taste since they enjoy taking pictures in elevators. \n",
    "# Variable 'photo.elevator_1 is one to watch.\n",
    "\n",
    "# The last profile, as show variable 'photo.beach_1', includes people who like taking pictures at the beach. These person are possibly more\n",
    "# interested than others in their good appearance and could be interested in Health subjects."
   ]
  },
  {
   "cell_type": "code",
   "execution_count": 26,
   "metadata": {},
   "outputs": [],
   "source": [
    "# 5. Représentez la contribution des variables sur les deux premiers axes via une table.\n",
    "\n",
    "# 5. Represent the contribution of the variables on the first two axes using a table."
   ]
  },
  {
   "cell_type": "code",
   "execution_count": 66,
   "metadata": {},
   "outputs": [
    {
     "name": "stdout",
     "output_type": "stream",
     "text": [
      "                  Contribution to Dimension 1  Contribution to Dimension 2\n",
      "Country_England                      0.615082                     3.756438\n",
      "Country_France                       0.915431                     0.376026\n",
      "Country_Germany                      0.031187                     1.733400\n",
      "voyage_0                             0.042638                     0.182383\n",
      "voyage_1                             0.525684                     2.248613\n",
      "laugh_0                              0.018680                     0.549149\n",
      "laugh_1                              0.315649                     9.279590\n",
      "photo.elevator_0                     0.364602                     0.028585\n",
      "photo.elevator_1                     9.999665                     0.783989\n",
      "photo.beach_0                        0.485676                     0.000028\n",
      "photo.beach_1                       11.307975                     0.000653\n"
     ]
    }
   ],
   "source": [
    "# Calculate contributions\n",
    "contributions = pd.DataFrame()\n",
    "for i in range(column_coordinates.shape[1]):  # Loop over dimensions\n",
    "    dimension = column_coordinates.iloc[:, i]\n",
    "    contributions[f'Contribution to Dimension {i+1}'] = (dimension ** 2) / eigenvalues[i]\n",
    "\n",
    "print(contributions)"
   ]
  }
 ],
 "metadata": {
  "kernelspec": {
   "display_name": "Bac_a_sable",
   "language": "python",
   "name": "python3"
  },
  "language_info": {
   "codemirror_mode": {
    "name": "ipython",
    "version": 3
   },
   "file_extension": ".py",
   "mimetype": "text/x-python",
   "name": "python",
   "nbconvert_exporter": "python",
   "pygments_lexer": "ipython3",
   "version": "3.11.9"
  }
 },
 "nbformat": 4,
 "nbformat_minor": 2
}
